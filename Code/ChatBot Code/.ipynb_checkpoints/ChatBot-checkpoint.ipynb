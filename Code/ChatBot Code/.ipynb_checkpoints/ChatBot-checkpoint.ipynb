{
 "cells": [
  {
   "cell_type": "code",
   "execution_count": 1,
   "id": "57f8e97a",
   "metadata": {},
   "outputs": [
    {
     "data": {
      "text/plain": [
       "True"
      ]
     },
     "execution_count": 1,
     "metadata": {},
     "output_type": "execute_result"
    }
   ],
   "source": [
    "import os\n",
    "os.environ['PROTOCOL_BUFFERS_PYTHON_IMPLEMENTATION'] = 'python'\n",
    "\n",
    "from langchain.chat_models import ChatOpenAI\n",
    "from langchain.schema import (\n",
    "    SystemMessage,\n",
    "    HumanMessage,\n",
    "    AIMessage\n",
    ")\n",
    "\n",
    "\n",
    "from dotenv import load_dotenv,find_dotenv\n",
    "load_dotenv(find_dotenv())"
   ]
  },
  {
   "cell_type": "code",
   "execution_count": 2,
   "id": "5b54c45b",
   "metadata": {},
   "outputs": [],
   "source": [
    "OPENAI_API_KEY = os.getenv(\"OPENAI_API_KEY\")\n",
    "PINECONE_API_KEY = os.getenv(\"PINECONE_API_KEY\")\n",
    "PINECONE_INDEX_NAME = os.getenv(\"PINECONE_INDEX_NAME\")\n",
    "PINECONE_ENVIRONMENT = os.getenv(\"PINECONE_ENVIRONMENT\")"
   ]
  },
  {
   "cell_type": "code",
   "execution_count": 3,
   "id": "43bbdbf1",
   "metadata": {},
   "outputs": [],
   "source": [
    "chat = ChatOpenAI(\n",
    "    openai_api_key= OPENAI_API_KEY,\n",
    "    model='gpt-3.5-turbo'\n",
    ")"
   ]
  },
  {
   "cell_type": "markdown",
   "id": "e63d63e1",
   "metadata": {},
   "source": [
    "# Restart Here"
   ]
  },
  {
   "cell_type": "code",
   "execution_count": 19,
   "id": "daef89d0",
   "metadata": {},
   "outputs": [],
   "source": [
    "messages = [\n",
    "    SystemMessage(content=\"\"\"You are a helpful chatbot that interact with students with queries.\n",
    "                            Make sure the students their UID and email address before solving their queries and save them. You don't need to verify if they are accurate.\n",
    "                            If you are given that can't be done by you such as sending mails, state that a request has been placed for this to the relevant department\n",
    "                            You will be provided context to answer the questions asked of you. If the information is not enough, you can ask the student to eloberate their query.\n",
    "                            Sometimes the context is previous conversations that you can use as a referance of how to reply back to the students.\n",
    "                            Don't mention anything about being given context, even if it is provided in prompt.\"\"\"),\n",
    "]"
   ]
  },
  {
   "cell_type": "code",
   "execution_count": 20,
   "id": "e68b8d0c",
   "metadata": {},
   "outputs": [
    {
     "data": {
      "text/plain": [
       "AIMessage(content='Hi! How can I assist you today?')"
      ]
     },
     "execution_count": 20,
     "metadata": {},
     "output_type": "execute_result"
    }
   ],
   "source": [
    "res = chat(messages)\n",
    "res"
   ]
  },
  {
   "cell_type": "code",
   "execution_count": 21,
   "id": "a3cb8f91",
   "metadata": {},
   "outputs": [
    {
     "name": "stdout",
     "output_type": "stream",
     "text": [
      "Yes, I'm here to help! Please go ahead and ask your question.\n"
     ]
    }
   ],
   "source": [
    "# add latest AI response to messages\n",
    "messages.append(res)\n",
    "\n",
    "# now create a new user prompt\n",
    "prompt = HumanMessage(\n",
    "    content=\"Can you help me with any question?\"\n",
    ")\n",
    "# add to messages\n",
    "messages.append(prompt)\n",
    "\n",
    "# send to chat-gpt\n",
    "res = chat(messages)\n",
    "\n",
    "print(res.content)"
   ]
  },
  {
   "cell_type": "code",
   "execution_count": 22,
   "id": "6cafcee0",
   "metadata": {
    "scrolled": false
   },
   "outputs": [],
   "source": [
    "import pinecone\n",
    "\n",
    "# get API key from app.pinecone.io and environment from console\n",
    "pinecone.init(\n",
    "    api_key=os.getenv('PINECONE_API_KEY'),  \n",
    "    environment=os.getenv('PINECONE_ENV')  \n",
    ")"
   ]
  },
  {
   "cell_type": "code",
   "execution_count": 23,
   "id": "4ccd35f6",
   "metadata": {},
   "outputs": [],
   "source": [
    "index_list = pinecone.list_indexes()"
   ]
  },
  {
   "cell_type": "code",
   "execution_count": 24,
   "id": "cafc8ed2",
   "metadata": {},
   "outputs": [],
   "source": [
    "import time\n",
    "\n",
    "if PINECONE_INDEX_NAME not in pinecone.list_indexes():\n",
    "    pinecone.create_index(\n",
    "        PINECONE_INDEX_NAME,\n",
    "        dimension=1536,\n",
    "        metric='cosine'\n",
    "    )\n",
    "    # wait for index to finish initialization\n",
    "    while not pinecone.describe_index(PINECONE_INDEX_NAME).status['ready']:\n",
    "        time.sleep(1)\n",
    "        \n",
    "\n",
    "index = pinecone.Index(PINECONE_INDEX_NAME)"
   ]
  },
  {
   "cell_type": "code",
   "execution_count": 25,
   "id": "a9d31b73",
   "metadata": {},
   "outputs": [
    {
     "data": {
      "text/plain": [
       "{'dimension': 1536,\n",
       " 'index_fullness': 0.2205,\n",
       " 'namespaces': {'': {'vector_count': 22050}},\n",
       " 'total_vector_count': 22050}"
      ]
     },
     "execution_count": 25,
     "metadata": {},
     "output_type": "execute_result"
    }
   ],
   "source": [
    "index.describe_index_stats()"
   ]
  },
  {
   "cell_type": "code",
   "execution_count": 26,
   "id": "97937336",
   "metadata": {},
   "outputs": [],
   "source": [
    "from langchain.embeddings.openai import OpenAIEmbeddings\n",
    "\n",
    "embed_model = OpenAIEmbeddings(model=\"text-embedding-ada-002\")"
   ]
  },
  {
   "cell_type": "code",
   "execution_count": 27,
   "id": "a42da159",
   "metadata": {},
   "outputs": [
    {
     "name": "stderr",
     "output_type": "stream",
     "text": [
      "C:\\Users\\Uday Ganti\\anaconda3\\lib\\site-packages\\langchain\\vectorstores\\pinecone.py:59: UserWarning: Passing in `embedding` as a Callable is deprecated. Please pass in an Embeddings object instead.\n",
      "  warnings.warn(\n"
     ]
    }
   ],
   "source": [
    "from langchain.vectorstores import Pinecone\n",
    "\n",
    "text_field = \"text\"  # the metadata field that contains our text\n",
    "\n",
    "# initialize the vector store object\n",
    "vectorstore = Pinecone(\n",
    "    index, embed_model.embed_query, text_field\n",
    ")"
   ]
  },
  {
   "cell_type": "code",
   "execution_count": 28,
   "id": "0080f407",
   "metadata": {},
   "outputs": [],
   "source": [
    "def augment_prompt(query: str):\n",
    "    # get top 3 results from knowledge base\n",
    "    results = vectorstore.similarity_search(query, k=3)\n",
    "    # get the text from the results\n",
    "    source_knowledge = \"\\n\".join([x.page_content for x in results])\n",
    "    # feed into an augmented prompt\n",
    "    augmented_prompt = f\"\"\"Using the contexts below, answer the query.\n",
    "\n",
    "    Contexts:\n",
    "    {source_knowledge}\n",
    "\n",
    "    Query: {query}\"\"\"\n",
    "    return augmented_prompt"
   ]
  },
  {
   "cell_type": "code",
   "execution_count": 29,
   "id": "e8f81d35",
   "metadata": {
    "scrolled": true
   },
   "outputs": [
    {
     "data": {
      "text/plain": [
       "[Document(page_content=\"Tim SmithAssistant Professor of Instructionsmith515@usf.eduCampus:\\xa0St. PetersburgRoom: LPH 420Tim Smith is an assistant professor of instruction in the School of Information Systems\\n               and Management on USF's St. Petersburg campus. He came\\xa0to USF in 2022 from Iowa State\\n               University, where he was an assistant teaching professor in the Ivy College of Business.Smith's research interests lie in organizational routines, technology adoption processes,\\n               business analytics, and enterprise systems development. His work has been published\\n               in theJournal of Information Systems Education, theTeaching Mathematics and Computer Sciencejournal, and currently serves as the technical editor for theJournal of Information Systems Education. He has presented research at the Hawaii International Conference on System Sciences,\\n               Americas Conference on Information Systems, and International Conference on Information\\n               systems. He \"),\n",
       " Document(page_content='2023 Spring_ISM 6251-901-Data Science Programming_Smith, Tim.txt'),\n",
       " Document(page_content='2023 Spring_ISM 6251-003-Data Science Programming_Smith, Tim.txt')]"
      ]
     },
     "execution_count": 29,
     "metadata": {},
     "output_type": "execute_result"
    }
   ],
   "source": [
    "from langchain.vectorstores import Pinecone\n",
    "\n",
    "query = \"What are all the subjects thought by Prof Tim Smith?\"\n",
    "\n",
    "vectorstore.similarity_search(query, k=3)"
   ]
  },
  {
   "cell_type": "code",
   "execution_count": 30,
   "id": "5df5f902",
   "metadata": {
    "scrolled": false
   },
   "outputs": [
    {
     "name": "stdout",
     "output_type": "stream",
     "text": [
      "Using the contexts below, answer the query.\n",
      "\n",
      "    Contexts:\n",
      "    Tim SmithAssistant Professor of Instructionsmith515@usf.eduCampus: St. PetersburgRoom: LPH 420Tim Smith is an assistant professor of instruction in the School of Information Systems\n",
      "               and Management on USF's St. Petersburg campus. He came to USF in 2022 from Iowa State\n",
      "               University, where he was an assistant teaching professor in the Ivy College of Business.Smith's research interests lie in organizational routines, technology adoption processes,\n",
      "               business analytics, and enterprise systems development. His work has been published\n",
      "               in theJournal of Information Systems Education, theTeaching Mathematics and Computer Sciencejournal, and currently serves as the technical editor for theJournal of Information Systems Education. He has presented research at the Hawaii International Conference on System Sciences,\n",
      "               Americas Conference on Information Systems, and International Conference on Information\n",
      "               systems. He \n",
      "2023 Spring_ISM 6251-901-Data Science Programming_Smith, Tim.txt\n",
      "2023 Spring_ISM 6251-003-Data Science Programming_Smith, Tim.txt\n",
      "\n",
      "    Query: What are all the subjects thought by Prof Tim Smith?\n"
     ]
    }
   ],
   "source": [
    "print(augment_prompt(query))"
   ]
  },
  {
   "cell_type": "code",
   "execution_count": 31,
   "id": "2042f916",
   "metadata": {
    "scrolled": false
   },
   "outputs": [
    {
     "name": "stdout",
     "output_type": "stream",
     "text": [
      "To determine the subjects taught by Professor Tim Smith, I would need more information. Could you please provide me with additional context or clarify your query?\n"
     ]
    }
   ],
   "source": [
    "# create a new user prompt\n",
    "prompt = HumanMessage(\n",
    "    content=augment_prompt(query)\n",
    ")\n",
    "# add to messages\n",
    "messages.append(prompt)\n",
    "\n",
    "res = chat(messages)\n",
    "\n",
    "print(res.content)"
   ]
  },
  {
   "cell_type": "code",
   "execution_count": 32,
   "id": "45ab379a",
   "metadata": {},
   "outputs": [
    {
     "name": "stdout",
     "output_type": "stream",
     "text": [
      "Prof. Tim Smith teaches the following subject: \n",
      "\n",
      "- ISM 6251-901: Data Science Programming\n",
      "- ISM 6251-003: Data Science Programming\n",
      "\n",
      "If you have any other questions, feel free to ask!\n"
     ]
    }
   ],
   "source": [
    "# now create a new user prompt\n",
    "prompt = HumanMessage(\n",
    "    content=\"I am asking about Prof. Tim Smith\"\n",
    ")\n",
    "# add to messages\n",
    "messages.append(prompt)\n",
    "\n",
    "# send to chat-gpt\n",
    "res = chat(messages)\n",
    "\n",
    "print(res.content)\n",
    "\n",
    "messages.append(res)"
   ]
  },
  {
   "cell_type": "code",
   "execution_count": null,
   "id": "83ffcadc",
   "metadata": {},
   "outputs": [],
   "source": []
  }
 ],
 "metadata": {
  "kernelspec": {
   "display_name": "Python 3 (ipykernel)",
   "language": "python",
   "name": "python3"
  },
  "language_info": {
   "codemirror_mode": {
    "name": "ipython",
    "version": 3
   },
   "file_extension": ".py",
   "mimetype": "text/x-python",
   "name": "python",
   "nbconvert_exporter": "python",
   "pygments_lexer": "ipython3",
   "version": "3.9.12"
  }
 },
 "nbformat": 4,
 "nbformat_minor": 5
}
