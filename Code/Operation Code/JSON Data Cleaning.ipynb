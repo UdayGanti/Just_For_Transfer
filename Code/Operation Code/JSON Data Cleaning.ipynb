{
 "cells": [
  {
   "cell_type": "code",
   "execution_count": 1,
   "id": "903553fb",
   "metadata": {},
   "outputs": [],
   "source": [
    "import json\n",
    "import os\n",
    "import re"
   ]
  },
  {
   "cell_type": "code",
   "execution_count": 2,
   "id": "7b171658",
   "metadata": {},
   "outputs": [],
   "source": [
    "# Define the path to the JSON file\n",
    "file_path = \"data/jira-conversations2.json\"\n",
    "\n",
    "# Read the JSON file with utf-8 encoding\n",
    "with open(file_path, \"r\", encoding='utf-8') as f:\n",
    "    data = json.load(f)"
   ]
  },
  {
   "cell_type": "code",
   "execution_count": 3,
   "id": "57917b1a",
   "metadata": {},
   "outputs": [
    {
     "data": {
      "text/plain": [
       "[{'question000001': ' \\n \\nHii This is ~+~+~+~+~+~ gadipally UID-U6331114. In process of submitting DS160. I need to send address and phone number of point of contact(school official).So can you please send address and phone number of IRIS BRITO(School official to contact uon arrival).Can i also know the first and last name of IRIS BRITO. \\n  \\nThank you. \\n~+~+~+~+~+~  \\n\\n',\n",
       "  'response000002': 'Thank you for reaching out.  You are able to add ~+~+~+~+~+~ at [[~~email~~-4675564125407667342~~]|mailto:[~~email~~-4675564125407667342~~]].\\nBest,\\n\\n~+~+~+~+~+~\\n'},\n",
       " {'question000001': 'Hello, \\n \\n  \\nI am ~+~+~+~+~+~ with ~+~+~+~+~+~ID - U20309912. \\n  \\nI have not received any mail regarding academic integrity course . \\n\\n  \\nCan you please send the link for academic integrity course and details regarding it?! \\n\\n  \\nThanks in advance. ~+~+~+~+~+~    \\n',\n",
       "  'response000002': 'Hello,\\n~+~+~+~+~+~provide me with your USF email. \\n',\n",
       "  'question000003': 'Hello,     \\n ~+~+~+~+~+~USF mail Id is [~~email~~3437635499608302290~~]   \\n  \\n Thanks in advance  \\n ~+~+~+~+~+~ \\n----\\n \\n {adf}{\"type\":\"expand\",\"content\":[{\"type\":\"paragraph\",\"content\":[{\"type\":\"text\",\"text\":\"Get \"},{\"type\":\"text\",\"text\":\"Outlook for iOS\",\"marks\":[{\"type\":\"link\",\"attrs\":{\"href\":\"https://aka.ms/o0ukef\"}}]}]}],\"attrs\":{\"title\":\"Signature\"}}{adf}\\n',\n",
       "  'response000004': 'Canvas invite has been sent via email. ',\n",
       "  'question000005': 'Hello ,     \\n I didn’t get any canvas invite to my mail.   \\n  \\n Can you please send it again?!   \\n  \\n Thanks in advance  \\n ~+~+~+~+~+~ \\n----\\n \\n {adf}{\"type\":\"expand\",\"content\":[{\"type\":\"paragraph\",\"content\":[{\"type\":\"text\",\"text\":\"Get \"},{\"type\":\"text\",\"text\":\"Outlook for iOS\",\"marks\":[{\"type\":\"link\",\"attrs\":{\"href\":\"https://aka.ms/o0ukef\"}}]}]}],\"attrs\":{\"title\":\"Signature\"}}{adf}\\n',\n",
       "  'response000006': 'Invite has been sent again.'},\n",
       " {'question000001': ' \\n \\n \\n \\n~+~+~+~+~+~Sir/Madam,\\n  \\n \\n  \\nGreetings of the day!! \\n  \\nThank you for your email and I would like to change my program from *MS Computer Science*  to *MS Information Technology* program. \\n  \\nPlease let me know the procedure to change my program and further process my application. \\n  \\nWaiting for your quick and positive response. \\n  \\nThanks and ~+~+~+~+~+~, \\n~+~+~+~+~+~\\n   \\n \\n \\n  \\n{quote} \\n \\n \\n \\n \\n \\n \\n Hello!\\n  \\n \\n \\n  \\n Thank you for applying to our MS BAIS program. At this time, it has been decided that we are not moving forward with your application. Our program does fill up quickly and in order for us to best serve each student, we have reached capacity. We understand this is not your first option, but we strongly encourage you to reapply for  _spring 2024 or fall 2024_.  \\n   \\n  \\n We are happy to answer any questions, as you are making this decision whether or not to move forward. We do hope you choose to be considered for a future start.   \\n   \\n Thank you for considering USF!\\n  \\n \\n  \\n  \\n\\n ~+~+~+~+~+~ \\n\\n MS BAIS Academic Advisor \\n\\n School of Information Systems and Management     \\n    {quote}\\n      \\n',\n",
       "  'response000002': 'If you are interested in applying for another program, you will have to start another application. \\nBest,\\n\\n~+~+~+~+~+~\\n'},\n",
       " {'question000001': 'Hi \\nCould you kindly let me know my pre requisites. \\nMy UID is U05191359. \\n\\n  \\nRegards,\\n ~+~+~+~+~+~\\n  \\n \\n  ',\n",
       "  'response000002': 'Hi,\\nThank you for your request to do a prerequisite check.\\n\\nThe system that I use to check your records is down and I therefore cannot do the check at this stage. I will try again later. Sorry.\\n\\n\\xa0\\n\\nWith kind regards,\\n\\n_~+~+~+~+~+~, PhD_\\n\\n_Professor and Graduate Coordinator, MS BAIS_\\n\\n~+~+~+~+~+~College of Business, University of South Florida_\\n\\n',\n",
       "  'question000003': 'Hi,\\nThe system that I use to check your records is still down.  This is very frustrating for me, as I am sure it is for you.\\n\\nIf you send me your unofficial transcript and the resume that you uploaded when you created your application, I can use those to do the prerequisite check.\\n\\nWith apologies – Han\\n\\n\\xa0\\n\\n_~+~+~+~+~+~, PhD_\\n\\n_Professor and Graduate Coordinator, MS BAIS_\\n\\n~+~+~+~+~+~College of Business, University of South Florida_\\n\\n',\n",
       "  'response000004': \"Hi    \\nI'm attaching my resume and unofficial transcript, kindly let me know my pre requisites. \\n\\n  \\nThanks, \\n~+~+~+~+~+~ ----\\n \\n *From:* ~+~+~+~+~+~ <[~~email~~-6388608114568102327~~]>\\n  *Sent:* Tuesday, April 18, 2023 9:13:08 PM\\n  *To:* ~+~+~+~+~+~ ~+~+~+~+~+~<[~~email~~-6388608114568102327~~]>\\n  *Subject:* MUMAJIRA-1562 Pre Requisite Check     \\n \\n \\n \\n\\n \\n \\n—-—-—-—  \\n***Please reply above this line***  \\n  \\n\\n~+~+~+~+~+~ commented: \\n\\nHi, \\n\\nThe system that I use to check your records is still down. This is very frustrating for me, as I am sure it is for you. \\n\\nIf you send me your unofficial transcript and the resume that you uploaded when you created your application, I can use those to do the prerequisite check. \\n\\nWith apologies – Han \\n\\n  \\n\\n _~+~+~+~+~+~, PhD_ \\n\\n _Professor and Graduate Coordinator, MS BAIS_ \\n\\n ~+~+~+~+~+~College of Business, University of South Florida_ \\n\\n[ [~~email~~-6388608114568102327~~]|mailto:[~~email~~-6388608114568102327~~]]   \\n\\n[View request|https://na01.safelinks.protection.outlook.com/?url=https%3A%2F%2Fmuma-usf.atlassian.net%2Fservicedesk%2Fcustomer%2Fportal%2F3%2FMUMAJIRA-1562%3Ftoken%3DeyJ0eXAiOiJKV1QiLCJhbGciOiJIUzI1NiJ9.eyJxc2giOiIxMmEzYTMyOTJlNTQ4NjRiODA5M2E2M2I4NmM0YTdhZWJiNmViOTE4NzlhYzlhMjA0ODI2YjcxY2Y5Y2MwZmM4IiwiaXNzIjoic2VydmljZWRlc2stand0LXRva2VuLWlzc3VlciIsImNvbnRleHQiOnsidXNlciI6IjExMDExOCIsImlzc3VlIjoiTVVNQUpJUkEtMTU2MiJ9LCJleHAiOjE2ODQyNTE3ODcsImlhdCI6MTY4MTgzMjU4N30.7huPizmovP5LF4rVM~+~+~+~+~+~] · [ Turn off this request's notifications|https://na01.safelinks.protection.outlook.com/?url=~+~+~+~+~+~Y&data=05%7C01%7Cmsbais-admissions%40usf.edu%7C740e0b9bbaad4327b7b708db479c3fb5%7C741bf7dee2e546df8d6782607df9deaa%7C0%7C0%7C638182508667953951%7CUnknown%7CTWFpbGZsb3d8eyJWIjoiMC4wLjAwMDAiLCJQIjoiV2luMzIiLCJBTiI6Ik1haWwiLCJXVCI6Mn0%3D%7C3000%7C%7C%7C&sdata=4d%2B741md9Bjcn4nfG0311%2BHYoa%2F3tooR1V6Cym356NU%3D&reserved=0] \\n\\n\\n[Powered by ~+~+~+~+~+~Service Management|https://na01.safelinks.protection.outlook.com/?url=https%3A%2F%2Fwww.atlassian.com%2Fsoftware%2Fjira%2Fservice-desk%2Fpowered-by%3Futm_medium%3Djira-in-product%26utm_source%3Djira_service_desk_email_footer%26utm_content%3Dmuma-usf&data=05%7C01%7Cmsbais-admissions%40usf.edu%7C740e0b9bbaad4327b7b708db479c3fb5%7C741bf7dee2e546df8d6782607df9deaa%7C0%7C0%7C638182508667953951%7CUnknown%7CTWFpbGZsb3d8eyJWIjoiMC4wLjAwMDAiLCJQIjoiV2luMzIiLCJBTiI6Ik1haWwiLCJXVCI6Mn0%3D%7C3000%7C%7C%7C&sdata=COh3GPgDUEDT4IVyQ57DeepkwnODgzVPBB9zJh2kFFA%3D&reserved=0] \\n Sent on April 18, 2023 11:43:07 AM EDT  \\n\\n\\n(19.32 MB)_\\n\\n(195 kB)_\\n\",\n",
       "  'question000005': 'Hi,\\xa0\\nThank you for sending me the documents.\\n\\nI have reviewed them, and you have\\xa0the following prerequisites to complet\\n\\n* Economics\\n* Financial Accounting\\n\\nYou can find a link with courses you can take to satisfy the prerequisites at [https://usf.box.com/s/9qoqve46ew4re0gdlrsrdmwts8enefdl|https://usf.box.com/s/9qoqve46ew4re0gdlrsrdmwts8enefdl]\\n\\nIt is of course possible that I overlooked something in either your resume or your transcript that would allow us to waive more prerequisites.\\xa0 If so, please let me know within 30 days of receipt of this email.  *_Please do so by responding to this message, and do not create a message from scratch._*\\n\\n\\n\\nWith kind regards,\\n\\n_~+~+~+~+~+~, PhD_\\n\\n_Professor and Graduate Coordinator, MS BAIS_\\n\\n~+~+~+~+~+~College of Business, University of South Florida_\\n\\n'},\n",
       " {'question000001': 'Hi \\nCould you kindly let me know my pre requisites. \\nMy UID is U43202780. \\n\\n  \\nRegards,\\n ~+~+~+~+~+~\\n \\n  ',\n",
       "  'response000002': 'Hi,\\nThank you for your request to do a prerequisite check.\\n\\nThe system that I use to check your records is down and I therefore cannot do the check at this stage.  I will try again later.  Sorry.\\n\\n\\n\\nWith kind regards,\\n\\n_~+~+~+~+~+~, PhD_\\n\\n_Professor and Graduate Coordinator, MS BAIS_\\n\\n~+~+~+~+~+~College of Business, University of South Florida_\\n\\n',\n",
       "  'question000003': 'Hi,\\xa0\\nThank you for your request to do a prerequisite check.\\n\\nI have reviewed your transcripts and resume from your application, and you have\\xa0the following prerequisites to complete:\\xa0\\xa0\\n\\n* Economics\\n* Financial Accounting\\n\\nYou can find a link with courses you can take to satisfy the prerequisites at [https://usf.box.com/s/9qoqve46ew4re0gdlrsrdmwts8enefdl|https://usf.box.com/s/9qoqve46ew4re0gdlrsrdmwts8enefdl]\\n\\nIt is of course possible that I overlooked something in either your resume or your transcript that would allow us to waive more prerequisites.\\xa0 If so, please let me know within 30 days of receipt of this email.  *_Please do so by responding to this message, and do not create a message from scratch._*\\n\\n\\n\\nWith kind regards,\\n\\n_~+~+~+~+~+~, PhD_\\n\\n_Professor and Graduate Coordinator, MS BAIS_\\n\\n~+~+~+~+~+~College of Business, University of South Florida_\\n\\n'},\n",
       " {'question000001': ' \\n \\n~+~+~+~+~+~Sir/Madam, \\n Greetings of the day!!! \\n This is ~+~+~+~+~+~, Thanks for giving the admission and i-20 for BAIS (Fall 2023) . I am writing this mail to inquire about the prerequisite courses that I need to take up before the start of my First class in Aug 2023 ? Can you please verify my profile and do the needful. \\n Below are the details for your reference:\\n ~+~+~+~+~+~- ~+~+~+~+~+~~+~+~+~+~+~\\n USF ID:  U58683362\\n Undergraduate Major : Computer Science\\n Job Experience : Yes (Software Engineer)\\n I look forward to hearing from you.\\n  \\n  \\n~+~+~+~+~+~, \\n~+~+~+~+~+~~+~+~+~+~+~    \\n',\n",
       "  'response000002': 'Hi,\\nThank you for your request to do a prerequisite check.\\n\\nThe system that I use to check your records is down and I therefore cannot do the check at this stage.  I will try again later.  Sorry.\\n\\n\\n\\nWith kind regards,\\n\\n_~+~+~+~+~+~, PhD_\\n\\n_Professor and Graduate Coordinator, MS BAIS_\\n\\n~+~+~+~+~+~College of Business, University of South Florida_\\n\\n',\n",
       "  'question000003': 'Hi,\\nThank you for your request to do a prerequisite check.  The system is back up.\\n\\nHowever, according to my records you have not yet registered for orientation, and I cannot do the prerequisite check until you do so.  So, please register for orientation and send me an email once you have done so.  I can then do the prerequisite check.\\n\\nThanks.\\n\\n\\n\\n\\n\\n_~+~+~+~+~+~, PhD_\\n\\n_Professor and Graduate Coordinator, MS BAIS_\\n\\n~+~+~+~+~+~College of Business, University of South Florida_\\n\\n',\n",
       "  'response000004': \"Hi Team,\\nI've successfully registered for the orientation. Can you please check now about my prerequisites.!\\n\\nRegards,\\n~+~+~+~+~+~.\\n\",\n",
       "  'question000005': 'Hi,\\nThanks for registering for orientation.\\n\\nUnfortunately, the system that we use to check your records is down.  Sorry.\\n\\nI will try again later and get back to you.\\n\\n\\n\\nWith kind regards\\n\\n_~+~+~+~+~+~, PhD_\\n\\n_Professor and Graduate Coordinator, MS BAIS_\\n\\n~+~+~+~+~+~College of Business, University of South Florida_\\n\\n',\n",
       "  'response000006': 'Hi ~+~+~+~+~+~\\nCan you please process my request as soon as possible.\\n\\nRegards,\\n~+~+~+~+~+~.\\n',\n",
       "  'question000007': 'Hi,\\nAs I said, the system that we use to check your records is down. Sorry.  Of course, had you done as we asked you do and registered for orientation before asking for a prerequisite check, we would not be in this situation.\\n\\nAnyway, IT is working on this, and I will try again later and get back to you.\\n\\n\\xa0\\n\\nWith kind regards\\n\\n_~+~+~+~+~+~, PhD_\\n\\n_Professor and Graduate Coordinator, MS BAIS_\\n\\n~+~+~+~+~+~College of Business, University of South Florida_\\n\\n',\n",
       "  'response000008': 'Hi,\\xa0\\nThe system that I used to look at your records has (finally) come back up.\\n\\nI have reviewed your transcripts and resume from your application, and you have\\xa0the following prerequisites to complete:\\xa0\\xa0\\n\\n* Economics\\n* Financial Accounting\\n\\nYou can find a link with courses you can take to satisfy the prerequisites at [https://usf.box.com/s/9qoqve46ew4re0gdlrsrdmwts8enefdl|https://usf.box.com/s/9qoqve46ew4re0gdlrsrdmwts8enefdl]\\n\\nIt is of course possible that I overlooked something in either your resume or your transcript that would allow us to waive more prerequisites.\\xa0 If so, please let me know within 30 days of receipt of this email.  *_Please do so by responding to this message, and do not create a message from scratch._*\\n\\n\\n\\nWith kind regards,\\n\\n_~+~+~+~+~+~, PhD_\\n\\n_Professor and Graduate Coordinator, MS BAIS_\\n\\n~+~+~+~+~+~College of Business, University of South Florida_\\n\\n',\n",
       "  'question000009': 'Hi ~+~+~+~+~+~, \\nThank you for letting me know about my prerequisites. I got a small request from my side i.e is it ok if i complete  *Financial Accounting* too from coursera itself as it would be easier for me and possibly save some cost.\\n\\nHope you respond to this in a positive way and as soon as possible.\\n\\nRegards,\\n~+~+~+~+~+~.\\n',\n",
       "  'response000010': 'Hi,\\nThe courses on the list are the only ones the faculty have approved.  Sorry.\\n\\n\\n\\nWith kind regards,\\n\\n_~+~+~+~+~+~, PhD_\\n\\n_Professor and Graduate Coordinator, MS BAIS_\\n\\n~+~+~+~+~+~College of Business, University of South Florida_\\n\\n'},\n",
       " {'question000001': \" \\n \\n \\nHi \\n  \\nI'm delighted to have been admitted to such a prestigious school and program. But due to some unavoidable circumstances, I'm considering deferral of my start date to next year/next intake.  \\n  \\nCan you please let me know the deferral policy and procedure?  \\n  \\n~+~+~+~+~+~  \\n  \\n \\n \\n \\nOn Wed, 12 Apr 2023, 2:19 pm Neyoo, <[[~+~+~+~+~+~]]> wrote:\\n  \\n{quote} \\nHi \\n  \\nI'm delighted to have been admitted to such a prestigious school and program. But due to some unavoidable circumstances, I'm considering deferral of the program to next year/next intake.  \\n  \\nCan you please let me know the deferral policy and procedure?  \\n  \\n~+~+~+~+~+~    \\n \\n \\nOn Tue, 28 Mar 2023, 10:53 pm ~+~+~+~+~+~MSBAIS Communications, <[[~+~+~+~+~+~]]> wrote:\\n  \\n \\n \\n Hi, \\n \\n  \\n Now that you have been admitted to the MS BAIS program, there are a number of additional steps we would like you to take. The file with the steps is attached. \\n \\n  \\n It is possible that you already received this file, in which case I apologize for unnecessarily filling your inbox  \\n   \\n\\n With kind regards, \\n\\n  _~+~+~+~+~+~, PhD_ \\n\\n  _Professor and Graduate Coordinator, MS BAIS_ \\n\\n  _~+~+~+~+~+~College of Business, University of South Florida_ \\n\\n [ [~~email~~1367681295643828393~~]|]  \\n   \\n   \\n   \\n  {quote}\\n      \\n\",\n",
       "  'response000002': 'Thank you for letting us know.  Would you like to defer to spring 2024 or fall 2024.  I can do this on your behalf.\\nBest,\\n\\n~+~+~+~+~+~\\n',\n",
       "  'question000003': \"Hi ~+~+~+~+~+~\\nThank you for your response. Yes, that would be great. Please defer to Fall'2024.\\n\\n~+~+~+~+~+~\\n\\nPranav Surve\\n\",\n",
       "  'response000004': \"Hi ~+~+~+~+~+~\\nRequesting your response to my deferral request. I intend to defer to Fall'24 as stated in my earlier email. Kindly confirm on the same.\\n\\nRegards \\n\\n~+~+~+~+~+~Surve\\n\",\n",
       "  'question000005': \"| | You don't often get email from [~~email~~-2020652260477962156~~] [ Learn why this is important|https://aka.ms/LearnAboutSenderIdentification]  |  |  \\n \\nHi ~+~+~+~+~+~ \\n  \\nRequesting your response to my deferral request. I intend to defer to Fall'24 as stated in my earlier email. Kindly confirm on the same. \\n  \\n~+~+~+~+~+~ \\n  \\n~+~+~+~+~+~Surve   \\n \\n \\nOn Mon, 17 Apr 2023, 7:51 am Neyoo, <[[~~email~~-2020652260477962156~~]|mailto:[~~email~~-2020652260477962156~~]]> wrote:\\n  \\n{quote} \\n \\nHi ~+~+~+~+~+~ \\n  \\nThank you for your response. Yes, that would be great. Please defer to Fall'2024. \\n  \\n~+~+~+~+~+~ \\n  \\n~+~+~+~+~+~Surve  \\n \\n \\n \\nOn Thu, 13 Apr 2023, 1:34 am ~+~+~+~+~+~ Saleh, <[[~~email~~-2020652260477962156~~]|mailto:[~~email~~-2020652260477962156~~]]> wrote:\\n  \\n  \\n \\n—-—-—-—  \\n***Please reply above this line***  \\n  \\n\\n~+~+~+~+~+~ ~+~+~+~+~+~commented: \\n\\nThank you for letting us know. Would you like to defer to spring 2024 or fall 2024. I can do this on your behalf. \\n\\nBest, \\n\\n~+~+~+~+~+~   \\n\\n[View request|https://nam04.safelinks.protection.outlook.com/?url=~+~+~+~+~+~=DLW0MVoyhFi5kkFppYBZDf2oaOfilTTD57iOA4CAosQ%3D&reserved=0] · [ Turn off this request's notifications|https://nam04.safelinks.protection.outlook.com/?url=~+~+~+~+~+~=MNQ62tI0bJsBTO1jJP27Zwwf2%2FS4oNaeqGHvDFz4EH8%3D&reserved=0] \\n\\n\\n[Powered by ~+~+~+~+~+~Service Management|https://nam04.safelinks.protection.outlook.com/?url~+~+~+~+~+~in-product%26utm_source%3Djira_service_desk_email_footer%26utm_content%3Dmuma-usf&data=05%7C01%7Cmsbais-admissions%40usf.edu%7C3c5e6edb001843b05f6c08db48212b10%7C741bf7dee2e546df8d6782607df9deaa%7C0%7C0%7C638183079517720114%7CUnknown%7CTWFpbGZsb3d8eyJWIjoiMC4wLjAwMDAiLCJQIjoiV2luMzIiLCJBTiI6Ik1haWwiLCJXVCI6Mn0%3D%7C3000%7C%7C%7C&sdata=A7VomWkMn2zqi0S2L5tMNWuEhmQuD1il9nwlX2hdlrs%3D&reserved=0] \\n Sent on April 12, 2023 4:04:35 PM EDT   \\n    {quote}\\n\",\n",
       "  'response000006': 'Hi ~+~+~+~+~+~\\nGentle reminder! Can you please confirm if my deferral has been approved?\\n\\nRegards \\n\\n~+~+~+~+~+~Surve\\n',\n",
       "  'question000007': \"| | You don't often get email from [~~email~~-8801723703196446261~~] [ Learn why this is important|https://aka.ms/LearnAboutSenderIdentification]  |  |  \\n \\n \\nHi ~+~+~+~+~+~ \\n  \\nGentle reminder! Can you please confirm if my deferral has been approved? \\n  \\n~+~+~+~+~+~ \\n  \\n~+~+~+~+~+~Surve  \\n \\n \\n \\nOn Sat, 29 Apr 2023, 1:15 am ~+~+~+~+~+~, <[[~~email~~-8801723703196446261~~]|mailto:[~~email~~-8801723703196446261~~]]> wrote:\\n  \\n{quote} \\nHi ~+~+~+~+~+~ \\n  \\nRequesting your response to my deferral request. I intend to defer to Fall'24 as stated in my earlier email. Kindly confirm on the same. \\n  \\n~+~+~+~+~+~ \\n  \\n~+~+~+~+~+~Surve   \\n \\n \\nOn Mon, 17 Apr 2023, 7:51 am ~+~+~+~+~+~, <[[~~email~~-8801723703196446261~~]|mailto:[~~email~~-8801723703196446261~~]]> wrote:\\n  \\n \\n \\nHi ~+~+~+~+~+~ \\n  \\nThank you for your response. Yes, that would be great. Please defer to Fall'2024. \\n  \\n~+~+~+~+~+~ \\n  \\n~+~+~+~+~+~Surve  \\n \\n \\n \\nOn Thu, 13 Apr 2023, 1:34 am ~+~+~+~+~+~ Saleh, <[[~~email~~-8801723703196446261~~]|mailto:[~~email~~-8801723703196446261~~]]> wrote:\\n  \\n  \\n \\n—-—-—-—  \\n***Please reply above this line***  \\n  \\n\\n~+~+~+~+~+~ ~+~+~+~+~+~commented: \\n\\nThank you for letting us know. Would you like to defer to spring 2024 or fall 2024. I can do this on your behalf. \\n\\nBest, \\n\\n~+~+~+~+~+~   \\n\\n[View request|https://nam04.safelinks.protection.outlook.com/?url=~+~+~+~+~+~=E4LnaoIHXvrui%2FiS8f4AUWpU8b8v%2BT2VbYodrOmaBXs%3D&reserved=0] · [ Turn off this request's notifications|https://nam04.safelinks.protection.outlook.com/?url=https%3A%2F%2Fmuma-usf.atlassian.net%2Fservicedesk%2Fcustomer%2Fportal%2F3%2FMUMAJIRA-1557%2Funsubscribe%3Fjwt%3DeyJ0eXAiOiJKV1QiLCJhbGciOiJIUzI1NiJ9.eyJxc2giOiI2M2VmNDIwZDE2ZGM5OTIwOTBlMWQ0ZGNmMDlhOWNhNmMwNThiN2M4OTc3YjU0NmEwM2JiMzJiNDdmOTc4ZDdlIiwiaXNzIjoic2VydmljZWRlc2stand0LXRva2VuLWlzc3VlciIsImNvbnRleHQiOnsidXNlciI6InFtOjJhY2ExODVlLWMwZDYtNDA5MS05YWYzLTA1ZmQ2ZGQ4ZjA5NjplY2E1NGY3Yy1mODg2LTQ3NTItOTk4MS00NmZlNmVlNzIxYjYiLCJpc3N1ZSI6Ik1VTUFKSVJBLTE1NTcifSwiZXhwIjoxNjgzNzQ5MDc1LCJpYXQiOjE2ODEzMjk4NzV9.yNvceYTH5fSM2kOJqcHy4qaKCYDOEd8R3P1uPMpMcR4&data=05%7C01%7Cmsbais-admissions%40usf.edu%7Ccf0302453ac34ece748908db50694378%7C741bf7dee2e546df8d6782607df9deaa%7C0%7C0%7C638192185268258885%7CUnknown%7CTWFpbGZsb3d8eyJWIjoiMC4wLjAwMDAiLCJQIjoiV2luMzIiLCJBTiI6Ik1haWwiLCJXVCI6Mn0%3D%7C3000%7C%7C%7C&sdata=bKFQLh78kmgvwUm8bx95NrTzpfGslj7iP6rus5R3mBk%3D&reserved=0] \\n\\n\\n[Powered by ~+~+~+~+~+~Service Management|https://nam04.safelinks.protection.outlook.com/?url~+~+~+~+~+~in-product%26utm_source%3Djira_service_desk_email_footer%26utm_content%3Dmuma-usf&data=05%7C01%7Cmsbais-admissions%40usf.edu%7Ccf0302453ac34ece748908db50694378%7C741bf7dee2e546df8d6782607df9deaa%7C0%7C0%7C638192185268258885%7CUnknown%7CTWFpbGZsb3d8eyJWIjoiMC4wLjAwMDAiLCJQIjoiV2luMzIiLCJBTiI6Ik1haWwiLCJXVCI6Mn0%3D%7C3000%7C%7C%7C&sdata=lqQDhwG%2B4xo%2BrT9KuneheGKzeMhO2qtoQOAagNp2Ioc%3D&reserved=0] \\n Sent on April 12, 2023 4:04:35 PM EDT   \\n    \\n  {quote}\\n\",\n",
       "  'response000008': 'Respected Dean,\\nI hope this email finds you in good health. I am reaching out to you with a polite request for assistance regarding my deferral approval.\\n\\nI have been in communication with the admissions team, regarding my deferral request to Fall 2024. Despite my previous emails and a gentle reminder (in trail), I have not received any confirmation or acknowledgment of my deferral.\\n\\nConsidering the importance of this matter for my academic plans, I would be sincerely grateful if you could kindly expedite the review and approval process for my deferral request. Your intervention in resolving this issue would provide me with the clarity I need to proceed with my future plans confidently.\\n\\nThank you for your understanding and attention to this matter. I eagerly await your response.\\n\\nWarm regards,\\n\\n~+~+~+~+~+~Surve\\n',\n",
       "  'question000009': \"| | You don't often get email from [~~email~~-6067829775140280506~~] [ Learn why this is important|https://aka.ms/LearnAboutSenderIdentification]  |  |  \\n  \\n\\n Respected Dean, \\n\\nI hope this email finds you in good health. I am reaching out to you with a polite request for assistance regarding my deferral approval. \\n\\nI have been in communication with the admissions team, regarding my deferral request to Fall 2024. Despite my previous emails and a gentle reminder (in trail), I have not received any confirmation or acknowledgment of my deferral. \\n\\nConsidering the importance of this matter for my academic plans, I would be sincerely grateful if you could kindly expedite the review and approval process for my deferral request. Your intervention in resolving this issue would provide me with the clarity I need to proceed with my future plans confidently. \\n\\nThank you for your understanding and attention to this matter. I eagerly await your response. \\n\\nWarm regards, \\n\\n~+~+~+~+~+~Surve  \\n \\n \\nOn Tue, 9 May 2023 at 14:11, ~+~+~+~+~+~ <[[~~email~~-6067829775140280506~~]|mailto:[~~email~~-6067829775140280506~~]]> wrote:\\n  \\n{quote} \\n \\nHi ~+~+~+~+~+~ \\n  \\nGentle reminder! Can you please confirm if my deferral has been approved? \\n  \\n~+~+~+~+~+~ \\n  \\n~+~+~+~+~+~Surve  \\n \\n \\n \\nOn Sat, 29 Apr 2023, 1:15 am ~+~+~+~+~+~, <[[~~email~~-6067829775140280506~~]|mailto:[~~email~~-6067829775140280506~~]]> wrote:\\n  \\n \\nHi ~+~+~+~+~+~ \\n  \\nRequesting your response to my deferral request. I intend to defer to Fall'24 as stated in my earlier email. Kindly confirm on the same. \\n  \\n~+~+~+~+~+~ \\n  \\n~+~+~+~+~+~Surve   \\n \\n \\nOn Mon, 17 Apr 2023, 7:51 am ~+~+~+~+~+~, <[[~~email~~-6067829775140280506~~]|mailto:[~~email~~-6067829775140280506~~]]> wrote:\\n  \\n \\n \\nHi ~+~+~+~+~+~ \\n  \\nThank you for your response. Yes, that would be great. Please defer to Fall'2024. \\n  \\n~+~+~+~+~+~ \\n  \\n~+~+~+~+~+~Surve  \\n \\n \\n \\nOn Thu, 13 Apr 2023, 1:34 am ~+~+~+~+~+~ Saleh, <[[~~email~~-6067829775140280506~~]|mailto:[~~email~~-6067829775140280506~~]]> wrote:\\n  \\n  \\n \\n—-—-—-—  \\n***Please reply above this line***  \\n  \\n\\n~+~+~+~+~+~ ~+~+~+~+~+~commented: \\n\\nThank you for letting us know. Would you like to defer to spring 2024 or fall 2024. I can do this on your behalf. \\n\\nBest, \\n\\n~+~+~+~+~+~   \\n\\n[View request|https://nam04.safelinks.protection.outlook.com/?url=~+~+~+~+~+~] · [ Turn off this request's notifications|https://nam04.safelinks.protection.outlook.com/?url=https%3A%2F%2Fmuma-usf.atlassian.net%2Fservicedesk%2Fcustomer%2Fportal%2F3%2FMUMAJIRA-1557%2Funsubscribe%3Fjwt%3DeyJ0eXAiOiJKV1QiLCJhbGciOiJIUzI1NiJ9.eyJxc2giOiI2M2VmNDIwZDE2ZGM5OTIwOTBlMWQ0ZGNmMDlhOWNhNmMwNThiN2M4OTc3YjU0NmEwM2JiMzJiNDdmOTc4ZDdlIiwiaXNzIjoic2VydmljZWRlc2stand0LXRva2VuLWlzc3VlciIsImNvbnRleHQiOnsidXNlciI6InFtOjJhY2ExODVlLWMwZDYtNDA5MS05YWYzLTA1ZmQ2ZGQ4ZjA5NjplY2E1NGY3Yy1mODg2LTQ3NTItOTk4MS00NmZlNmVlNzIxYjYiLCJpc3N1ZSI6Ik1VTUFKSVJBLTE1NTcifSwiZXhwIjoxNjgzNzQ5MDc1LCJpYXQiOjE2ODEzMjk4NzV9.yNvceYTH5fSM2kOJqcHy4qaKCYDOEd8R3P1uPMpMcR4&data=05%7C01%7Cmsbais-admissions%40usf.edu%7Cd59ec0de1677405d696208db5ba9faaa%7C741bf7dee2e546df8d6782607df9deaa%7C0%7C0%7C638204557858176271%7CUnknown%7CTWFpbGZsb3d8eyJWIjoiMC4wLjAwMDAiLCJQIjoiV2luMzIiLCJBTiI6Ik1haWwiLCJXVCI6Mn0%3D%7C3000%7C%7C%7C&sdata=%2Fc7SZnGbelvRP4pqBw16oRlh926mENwJp06vSk9qxOg%3D&reserved=0] \\n\\n\\n[Powered by ~+~+~+~+~+~Service Management|https://nam04.safelinks.protection.outlook.com/?url~+~+~+~+~+~in-product%26utm_source%3Djira_service_desk_email_footer%26utm_content%3Dmuma-usf&data=05%7C01%7Cmsbais-admissions%40usf.edu%7Cd59ec0de1677405d696208db5ba9faaa%7C741bf7dee2e546df8d6782607df9deaa%7C0%7C0%7C638204557858176271%7CUnknown%7CTWFpbGZsb3d8eyJWIjoiMC4wLjAwMDAiLCJQIjoiV2luMzIiLCJBTiI6Ik1haWwiLCJXVCI6Mn0%3D%7C3000%7C%7C%7C&sdata=qOyrgScufTLjZE2tgHkEuq9amN%2FnyIhBJ9%2B4PLRwYg8%3D&reserved=0] \\n Sent on April 12, 2023 4:04:35 PM EDT   \\n    \\n  \\n    {quote}\\n\",\n",
       "  'response000010': '~+~+~+~+~+~, \\n  \\n\\nI forwarded your request to the team. I do not have insight in the status of each applicant myself. They will reach out in the near future. \\n\\n  \\n\\nBest, GJ  \\n\\n   \\n\\nGJ de Vreede, PhD \\n\\n~+~+~+~+~+~, ~+~+~+~+~+~College of Business \\n\\nUniversity of South ~+~+~+~+~+~ \\n\\n[[~~email~~-1917927360559997235~~]|mailto:[~~email~~-1917927360559997235~~]]\\n',\n",
       "  'question000011': '~+~+~+~+~+~, \\n  \\n\\nI forwarded your request to the team. I do not have insight in the status of each applicant myself. They will reach out in the near future. \\n\\n  \\n\\nBest, GJ  \\n\\n   \\n\\nGJ de Vreede, PhD \\n\\n~+~+~+~+~+~, ~+~+~+~+~+~College of Business \\n\\nUniversity of South ~+~+~+~+~+~ \\n\\n[[~~email~~6784013892785275773~~]|mailto:[~~email~~6784013892785275773~~]] \\n\\n   \\n\\n * *From:** ~+~+~+~+~+~ <[~~email~~6784013892785275773~~]>\\n  *Date:*  Tuesday, May 23, 2023 at 12:23\\n  *To:*  ~+~+~+~+~+~ <[~~email~~6784013892785275773~~]>\\n  *Cc:* \"[~~email~~6784013892785275773~~]\" <[~~email~~6784013892785275773~~]>, ~+~+~+~+~+~MS BAIS Admissions <[~~email~~6784013892785275773~~]>, USF Office of Admissions <[~~email~~6784013892785275773~~]>\\n  *Subject:*  Re: ~+~+~+~+~+~: MS BAIS program at USF \\n \\n \\n  \\n\\n Respected ~+~+~+~+~+~,  \\n\\n I hope this email finds you in good health. I am reaching out to you with a polite request for assistance regarding my deferral approval. \\n\\n I have been in communication with the admissions team, regarding my deferral request to Fall 2024. Despite my previous emails and a gentle reminder (in trail), I have not received any confirmation or acknowledgment of my deferral. \\n\\n Considering the importance of this matter for my academic plans, I would be sincerely grateful if you could kindly expedite the review and approval process for my deferral request. Your intervention in resolving this issue would provide me with the clarity I need to proceed with my future plans confidently. \\n\\n Thank you for your understanding and attention to this matter. I eagerly await your response. \\n\\n Warm regards, \\n\\n ~+~+~+~+~+~Surve  \\n\\n  \\n  \\n\\nOn Tue, 9 May 2023 at 14:11, ~+~+~+~+~+~ <[[~~email~~6784013892785275773~~]|mailto:[~~email~~6784013892785275773~~]]> wrote:  \\n{quote} \\n  \\n\\nHi ~+~+~+~+~+~   \\n\\n    \\n\\nGentle reminder! Can you please confirm if my deferral has been approved?   \\n\\n    \\n\\n~+~+~+~+~+~   \\n\\n    \\n\\n~+~+~+~+~+~Surve   \\n\\n  \\n  \\n\\nOn Sat, 29 Apr 2023, 1:15 am ~+~+~+~+~+~, <[[~~email~~6784013892785275773~~]|mailto:[~~email~~6784013892785275773~~]]> wrote:  \\n  \\n\\nHi ~+~+~+~+~+~   \\n\\n    \\n\\nRequesting your response to my deferral request. I intend to defer to Fall\\'24 as stated in my earlier email. Kindly confirm on the same.   \\n\\n    \\n\\n~+~+~+~+~+~   \\n\\n    \\n\\n~+~+~+~+~+~Surve    \\n\\n  \\n  \\n\\nOn Mon, 17 Apr 2023, 7:51 am ~+~+~+~+~+~, <[[~~email~~6784013892785275773~~]|mailto:[~~email~~6784013892785275773~~]]> wrote:  \\n \\n  \\n\\nHi ~+~+~+~+~+~   \\n\\n    \\n\\nThank you for your response. Yes, that would be great. Please defer to Fall\\'2024.   \\n\\n    \\n\\n~+~+~+~+~+~   \\n\\n    \\n\\n~+~+~+~+~+~Surve   \\n\\n  \\n  \\n\\nOn Thu, 13 Apr 2023, 1:34 am ~+~+~+~+~+~ Saleh, <[[~~email~~6784013892785275773~~]|mailto:[~~email~~6784013892785275773~~]]> wrote:  \\n \\n  \\n\\n—-—-—-—    \\n\\n***Please reply above this line***   \\n  \\n\\n~+~+~+~+~+~ ~+~+~+~+~+~commented: \\n\\nThank you for letting us know. Would you like to defer to spring 2024 or fall 2024. I can do this on your behalf. \\n\\nBest, \\n\\n~+~+~+~+~+~   \\n\\n[View request|https://nam04.safelinks.protection.outlook.com/?url=~+~+~+~+~+~=aD8AhRL2jpIj7wliEjRZ6%2FAWYSnL4lMNgnK1%2B6GE2GM%3D&reserved=0] · [ Turn off this request\\'s notifications|https://nam04.safelinks.protection.outlook.com/?url=https%3A%2F%2Fmuma-usf.atlassian.net%2Fservicedesk%2Fcustomer%2Fportal%2F3%2FMUMAJIRA-1557%2Funsubscribe%3Fjwt%3DeyJ0eXAiOiJKV1QiLCJhbGciOiJIUzI1NiJ9.eyJxc2giOiI2M2VmNDIwZDE2ZGM5OTIwOTBlMWQ0ZGNmMDlhOWNhNmMwNThiN2M4OTc3YjU0NmEwM2JiMzJiNDdmOTc4ZDdlIiwiaXNzIjoic2VydmljZWRlc2stand0LXRva2VuLWlzc3VlciIsImNvbnRleHQiOnsidXNlciI6InFtOjJhY2ExODVlLWMwZDYtNDA5MS05YWYzLTA1ZmQ2ZGQ4ZjA5NjplY2E1NGY3Yy1mODg2LTQ3NTItOTk4MS00NmZlNmVlNzIxYjYiLCJpc3N1ZSI6Ik1VTUFKSVJBLTE1NTcifSwiZXhwIjoxNjgzNzQ5MDc1LCJpYXQiOjE2ODEzMjk4NzV9.yNvceYTH5fSM2kOJqcHy4qaKCYDOEd8R3P1uPMpMcR4&data=05%7C01%7Cmsbais-admissions%40usf.edu%7C47586527d9d44ecdc80608db5bac7ad5%7C741bf7dee2e546df8d6782607df9deaa%7C0%7C0%7C638204568568171954%7CUnknown%7CTWFpbGZsb3d8eyJWIjoiMC4wLjAwMDAiLCJQIjoiV2luMzIiLCJBTiI6Ik1haWwiLCJXVCI6Mn0%3D%7C3000%7C%7C%7C&sdata=NqnZhIp6cI2s2PpaKH04lbnhaVrYiRnM1w9qe1eOasQ%3D&reserved=0] \\n\\n\\n[Powered by ~+~+~+~+~+~Service Management|https://nam04.safelinks.protection.outlook.com/?url~+~+~+~+~+~in-product%26utm_source%3Djira_service_desk_email_footer%26utm_content%3Dmuma-usf&data=05%7C01%7Cmsbais-admissions%40usf.edu%7C47586527d9d44ecdc80608db5bac7ad5%7C741bf7dee2e546df8d6782607df9deaa%7C0%7C0%7C638204568568171954%7CUnknown%7CTWFpbGZsb3d8eyJWIjoiMC4wLjAwMDAiLCJQIjoiV2luMzIiLCJBTiI6Ik1haWwiLCJXVCI6Mn0%3D%7C3000%7C%7C%7C&sdata=FgCMkyUa7Hh15bBnZHPPxQ20EX1pSbs2YTGPkvpfQpQ%3D&reserved=0]  \\n\\nSent on April 12, 2023 4:04:35 PM EDT    \\n    \\n  \\n    {quote}\\n   \\n\\n',\n",
       "  'response000012': 'My apologies for not sending a confirmation, but you are all set for your deferment to fall 2024.  \\nPlease let me know if you have any other questions. \\n\\nBest,\\n\\n~+~+~+~+~+~\\n'},\n",
       " {'question000001': ' \\n \\nHi, \\nI have not received my admission letter both soft and hard copy yet. Please send both so that I can process my financial aid.  \\n  \\nI received a link to my offer letter which redirected me to a jira account to which I had no access to.  \\n  \\nKindly send me a PDF asap. Also, a hard copy to my address.  \\n  \\nU number- U78055250 \\n   \\n\\n',\n",
       "  'response000002': \"HiI haven't recieved my e letter yet. Please respond as soon as possible\\n\",\n",
       "  'question000003': 'Please find the official letter attached.\\nThanks,\\n\\n~+~+~+~+~+~\\n\\n\\n\\n\\n',\n",
       "  'response000004': 'This link does not work, again.\\nPlease find a solution asap.\\n\\n!Screenshot (645).png|thumbnail!\\n'},\n",
       " {'question000001': ' \\n \\n Hi Team \\n  \\nMy usf email is - [[~~email~~-6563556134900105594~~]|mailto:[~~email~~-6563556134900105594~~]] \\n  \\nI am ~+~+~+~+~+~ with USF ID: ~+~+~+~+~+~\\nTerm of Entry: ~+~+~+~+~+~2023 \\nGraduate Degree: Master of Science \\nGraduate Major: Business Analytics and Information Systems \\n  \\nI have received the admit for BAIS program ~+~+~+~+~+~-2023, and I require the official admit letter (electronic version) for the purpose of securing education loan to fund my masters.  \\n  \\nAnd also if I can get I-20 estimate for 2023-2024 as on website the pdf available is of 2022-2023. \\n  \\nPlease help me get it as soon as possible. ~+~+~+~+~+~to hear from you.  \\n  \\nThanks,  \\n~+~+~+~+~+~ Chaudhary \\n   \\n\\n',\n",
       "  'response000002': \"I haven't received it yet. Any updates on this? Please let me know. \\nThanks & Regards\\nSanchit. ~+~+~+~+~+~\\n\",\n",
       "  'question000003': 'Please find the official letter attached.\\nThanks,\\n\\n~+~+~+~+~+~\\n\\n\\n\\n\\n',\n",
       "  'response000004': \"Hi ~+~+~+~+~+~, \\nI can't open the attached pdf.It's (link) is just not opening up, I am getting an error message which I attached as screenshot. \\n\\nCan you please send it as attachment, I urgently need it to complete my loan application. \\n\\nThanks and regards, \\nSanchit\\n\\n!~+~+~+~+~+~!\\n\\n!jira-generated-image-static-link_attachment_7-e883badf-64fa-4c8a-84a0-d27023174a9e|thumbnail!\\n\\n!jira-generated-image-static-link_attachment_7-e883badf-64fa-4c8a-84a0-d27023174a9e (6329044b-401b-4340-b4e2-5704281a8094)|thumbnail!\\n\",\n",
       "  'question000005': 'Did you request a Jira account?  You will need to create one, in order to view documents.\\nBest,\\n\\n~+~+~+~+~+~\\n'}]"
      ]
     },
     "execution_count": 3,
     "metadata": {},
     "output_type": "execute_result"
    }
   ],
   "source": [
    "data[0:9]"
   ]
  },
  {
   "cell_type": "code",
   "execution_count": 4,
   "id": "82802487",
   "metadata": {},
   "outputs": [],
   "source": [
    "def clean_text(text):\n",
    "    text = ' '.join(text.split())  # Remove extra whitespaces and newlines\n",
    "    \n",
    "    # Remove different kinds of unwanted patterns from text\n",
    "    # Remove unwanted patterns\n",
    "    text = re.sub(r'~+\\+~+', '', text)  # Remove ~+~+\n",
    "    text = re.sub(r'\\+\\~', '', text)  # Remove +~\n",
    "    text = re.sub(r'----', '', text)  # Remove ----\n",
    "    text = re.sub(r'\\+\\+', '', text)    # Remove ++\n",
    "    \n",
    "\n",
    "    text = re.sub(r'~accountid:[a-zA-Z0-9]+', '', text)\n",
    "    text = re.sub(r'\\{\"type\".*?\\}\\]', '', text)\n",
    "    text = re.sub(r'\\{adf\\}.*?\\{adf\\}', '', text)  # Remove \"{adf} ... {adf}\" and content within\n",
    "    text = re.sub(r'\\[~~email~~-?\\d+~~\\]', '', text)  # Remove `[~~email~~-numbers~~]`\n",
    "    text = re.sub(r'http[s]?://\\S+', '', text)  # Remove URLs\n",
    "    text = re.sub(r'<\\[\\[~~email~~-?\\d+~~\\]\\]', '', text)  # Remove `<[[~~email~~-numbers~~]]>`\n",
    "    text = re.sub(r'\\|mailto:\\[~~email~~-?\\d+~~\\]', '', text)  # Remove email tags\n",
    "    text = re.sub(r'—-—-—-—', '', text)  # Remove \"—-—-—-—\"\n",
    "    text = re.sub(r'\\w{3}, \\d{1,2} \\w{3} \\d{4}, \\d{1,2}:\\d{2} [apmAPM]{2}', '', text)  # Remove timestamps\n",
    "    text = re.sub(r'\\|\\s+\\|\\s+You don\\'t often get email from', '', text)  # Remove headers\n",
    "    text = re.sub(r'\\[Powered by Service Management.*?\\]', '', text)  # Remove \"[Powered by...]\"\n",
    "    text = re.sub(r'\\[View request.*?&reserved=0\\]', '', text)  # Remove \"[View request...]\"\n",
    "    text = re.sub(r'\\*\\*\\*Please reply above this line\\*\\*\\*', '', text)  # Remove reply line\n",
    "    text = re.sub(r'\\|', '', text)  # Remove \"|\"\n",
    "    text = re.sub(r'_', '', text)  # Remove \"_\"\n",
    "    text = re.sub(r'\\[mailto:\\]', '', text)  # Remove \"[mailto:]\"\n",
    "    text = re.sub(r'\\[|\\]', '', text)  # Remove \"[\" and \"]\"\n",
    "    text = re.sub(r'<|>', '', text)  # Remove \"<\" and \">\"\n",
    "    text = re.sub(r'\\*', '', text)  # Remove \"*\"\n",
    "    text = re.sub(r'!jira[-a-zA-Z0-9 ()]+!', '', text)  # Remove Jira text\n",
    "    \n",
    "    return text\n",
    "\n",
    "# Clean text in conversations\n",
    "for conv in data:\n",
    "    for key, value in conv.items():\n",
    "        conv[key] = clean_text(value)"
   ]
  },
  {
   "cell_type": "code",
   "execution_count": 5,
   "id": "a5d40a2b",
   "metadata": {
    "scrolled": false
   },
   "outputs": [
    {
     "data": {
      "text/plain": [
       "[{'question000001': 'Hii This is  gadipally UID-U6331114. In process of submitting DS160. I need to send address and phone number of point of contact(school official).So can you please send address and phone number of IRIS BRITO(School official to contact uon arrival).Can i also know the first and last name of IRIS BRITO. Thank you. ',\n",
       "  'response000002': 'Thank you for reaching out. You are able to add  at . Best, '},\n",
       " {'question000001': 'Hello, I am  with ID - U20309912. I have not received any mail regarding academic integrity course . Can you please send the link for academic integrity course and details regarding it?! Thanks in advance. ',\n",
       "  'response000002': 'Hello, provide me with your USF email.',\n",
       "  'question000003': 'Hello, USF mail Id is  Thanks in advance   ',\n",
       "  'response000004': 'Canvas invite has been sent via email.',\n",
       "  'question000005': 'Hello , I didn’t get any canvas invite to my mail. Can you please send it again?! Thanks in advance   ',\n",
       "  'response000006': 'Invite has been sent again.'},\n",
       " {'question000001': 'Sir/Madam, Greetings of the day!! Thank you for your email and I would like to change my program from MS Computer Science to MS Information Technology program. Please let me know the procedure to change my program and further process my application. Waiting for your quick and positive response. Thanks and ,  {quote} Hello! Thank you for applying to our MS BAIS program. At this time, it has been decided that we are not moving forward with your application. Our program does fill up quickly and in order for us to best serve each student, we have reached capacity. We understand this is not your first option, but we strongly encourage you to reapply for spring 2024 or fall 2024. We are happy to answer any questions, as you are making this decision whether or not to move forward. We do hope you choose to be considered for a future start. Thank you for considering USF!  MS BAIS Academic Advisor School of Information Systems and Management {quote}',\n",
       "  'response000002': 'If you are interested in applying for another program, you will have to start another application. Best, '}]"
      ]
     },
     "execution_count": 5,
     "metadata": {},
     "output_type": "execute_result"
    }
   ],
   "source": [
    "data[0:3]"
   ]
  },
  {
   "cell_type": "code",
   "execution_count": 6,
   "id": "f0662348",
   "metadata": {},
   "outputs": [],
   "source": [
    "# Save cleaned data to a JSON file\n",
    "with open(\"./Data/cleaned_data.json\", \"w\", encoding='utf-8') as f:\n",
    "    json.dump(data, f, ensure_ascii=False, indent=4)"
   ]
  },
  {
   "cell_type": "code",
   "execution_count": null,
   "id": "53aacfe3",
   "metadata": {},
   "outputs": [],
   "source": []
  }
 ],
 "metadata": {
  "kernelspec": {
   "display_name": "Python 3 (ipykernel)",
   "language": "python",
   "name": "python3"
  },
  "language_info": {
   "codemirror_mode": {
    "name": "ipython",
    "version": 3
   },
   "file_extension": ".py",
   "mimetype": "text/x-python",
   "name": "python",
   "nbconvert_exporter": "python",
   "pygments_lexer": "ipython3",
   "version": "3.9.12"
  }
 },
 "nbformat": 4,
 "nbformat_minor": 5
}
