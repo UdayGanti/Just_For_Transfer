{
 "cells": [
  {
   "cell_type": "code",
   "execution_count": 4,
   "id": "056ceb97",
   "metadata": {},
   "outputs": [
    {
     "data": {
      "text/plain": [
       "False"
      ]
     },
     "execution_count": 4,
     "metadata": {},
     "output_type": "execute_result"
    }
   ],
   "source": [
    "import pandas as pd\n",
    "from pprint import pprint \n",
    "import json\n",
    "import openai\n",
    "\n",
    "\n",
    "import langchain\n",
    "from langchain.llms import OpenAI\n",
    "from langchain.chat_models import ChatOpenAI\n",
    "from langchain.vectorstores import Pinecone\n",
    "\n",
    "\n",
    "import os\n",
    "import pinecone\n",
    "\n",
    "\n",
    "from dotenv import load_dotenv,find_dotenv\n",
    "load_dotenv(find_dotenv())"
   ]
  },
  {
   "cell_type": "code",
   "execution_count": null,
   "id": "ef612cac",
   "metadata": {},
   "outputs": [],
   "source": [
    "# Define the path to the JSON file\n",
    "file_path = \"data/jira-conversations2.json\"\n",
    "\n",
    "# Read the JSON file with utf-8 encoding\n",
    "with open(file_path, \"r\", encoding='utf-8') as f:\n",
    "    data = json.load(f)"
   ]
  },
  {
   "cell_type": "code",
   "execution_count": null,
   "id": "29d63cdf",
   "metadata": {},
   "outputs": [],
   "source": [
    "def clean_text(text):\n",
    "    text = ' '.join(text.split())  # Remove extra whitespaces and newlines\n",
    "    \n",
    "    # Remove different kinds of unwanted patterns from text\n",
    "    # Remove unwanted patterns\n",
    "    text = re.sub(r'~+\\+~+', '', text)  # Remove ~+~+\n",
    "    text = re.sub(r'\\+\\~', '', text)  # Remove +~\n",
    "    text = re.sub(r'----', '', text)  # Remove ----\n",
    "    text = re.sub(r'\\+\\+', '', text)    # Remove ++\n",
    "    \n",
    "\n",
    "    text = re.sub(r'~accountid:[a-zA-Z0-9]+', '', text)\n",
    "    text = re.sub(r'\\{\"type\".*?\\}\\]', '', text)\n",
    "    text = re.sub(r'\\{adf\\}.*?\\{adf\\}', '', text)  # Remove \"{adf} ... {adf}\" and content within\n",
    "    text = re.sub(r'\\[~~email~~-?\\d+~~\\]', '', text)  # Remove `[~~email~~-numbers~~]`\n",
    "    text = re.sub(r'http[s]?://\\S+', '', text)  # Remove URLs\n",
    "    text = re.sub(r'<\\[\\[~~email~~-?\\d+~~\\]\\]', '', text)  # Remove `<[[~~email~~-numbers~~]]>`\n",
    "    text = re.sub(r'\\|mailto:\\[~~email~~-?\\d+~~\\]', '', text)  # Remove email tags\n",
    "    text = re.sub(r'—-—-—-—', '', text)  # Remove \"—-—-—-—\"\n",
    "    text = re.sub(r'\\w{3}, \\d{1,2} \\w{3} \\d{4}, \\d{1,2}:\\d{2} [apmAPM]{2}', '', text)  # Remove timestamps\n",
    "    text = re.sub(r'\\|\\s+\\|\\s+You don\\'t often get email from', '', text)  # Remove headers\n",
    "    text = re.sub(r'\\[Powered by Service Management.*?\\]', '', text)  # Remove \"[Powered by...]\"\n",
    "    text = re.sub(r'\\[View request.*?&reserved=0\\]', '', text)  # Remove \"[View request...]\"\n",
    "    text = re.sub(r'\\*\\*\\*Please reply above this line\\*\\*\\*', '', text)  # Remove reply line\n",
    "    text = re.sub(r'\\|', '', text)  # Remove \"|\"\n",
    "    text = re.sub(r'_', '', text)  # Remove \"_\"\n",
    "    text = re.sub(r'\\[mailto:\\]', '', text)  # Remove \"[mailto:]\"\n",
    "    text = re.sub(r'\\[|\\]', '', text)  # Remove \"[\" and \"]\"\n",
    "    text = re.sub(r'<|>', '', text)  # Remove \"<\" and \">\"\n",
    "    text = re.sub(r'\\*', '', text)  # Remove \"*\"\n",
    "    text = re.sub(r'!jira[-a-zA-Z0-9 ()]+!', '', text)  # Remove Jira text\n",
    "    \n",
    "    return text\n",
    "\n",
    "# Clean text in conversations\n",
    "for conv in data:\n",
    "    for key, value in conv.items():\n",
    "        conv[key] = clean_text(value)"
   ]
  },
  {
   "cell_type": "code",
   "execution_count": null,
   "id": "3271d74e",
   "metadata": {},
   "outputs": [],
   "source": [
    "from langchain.text_splitter import RecursiveCharacterTextSplitter\n",
    "from langchain.embeddings import OpenAIEmbeddings\n",
    "\n",
    "# Import utility for splitting up texts and split up the explanation given above into document chunks\n",
    "text_splitter = RecursiveCharacterTextSplitter(\n",
    "    chunk_size = 100,\n",
    "    chunk_overlap  = 0,\n",
    ")"
   ]
  },
  {
   "cell_type": "code",
   "execution_count": null,
   "id": "c3147011",
   "metadata": {},
   "outputs": [],
   "source": [
    "dic_sp = []\n",
    "dic_key = []\n",
    "for x in json_data:\n",
    "    for key,value in x.items():\n",
    "        dic_key.append(key)\n",
    "        dic_sp.append(text_splitter.create_documents([x[key]]))"
   ]
  },
  {
   "cell_type": "code",
   "execution_count": null,
   "id": "0f45a281",
   "metadata": {},
   "outputs": [],
   "source": [
    "dic_sp"
   ]
  },
  {
   "cell_type": "code",
   "execution_count": null,
   "id": "6db458a5",
   "metadata": {},
   "outputs": [],
   "source": [
    "pinecone.init(\n",
    "    api_key=os.getenv('PINECONE_API_KEY'),  \n",
    "    environment=os.getenv('PINECONE_ENV')  \n",
    ")"
   ]
  },
  {
   "cell_type": "code",
   "execution_count": null,
   "id": "0220ec3c",
   "metadata": {},
   "outputs": [],
   "source": [
    "pinecone.create_index(\"demo-index\", dimension=1536) # 1536 is openai ada embedding dimension"
   ]
  },
  {
   "cell_type": "code",
   "execution_count": null,
   "id": "d35c525d",
   "metadata": {},
   "outputs": [],
   "source": [
    "embeddings = OpenAIEmbeddings(deployment=\"text-embedding-ada-002\")"
   ]
  },
  {
   "cell_type": "code",
   "execution_count": null,
   "id": "94ac85fb",
   "metadata": {},
   "outputs": [],
   "source": [
    "index_name = \"demo-index\"\n",
    "search = Pinecone.from_documents((dic_sp[i] for i in range(dic_sp)), embeddings, index_name=index_name)"
   ]
  },
  {
   "cell_type": "code",
   "execution_count": null,
   "id": "0f746279",
   "metadata": {},
   "outputs": [],
   "source": []
  },
  {
   "cell_type": "code",
   "execution_count": null,
   "id": "c610c698",
   "metadata": {},
   "outputs": [],
   "source": []
  },
  {
   "cell_type": "code",
   "execution_count": null,
   "id": "afe404a2",
   "metadata": {},
   "outputs": [],
   "source": []
  }
 ],
 "metadata": {
  "kernelspec": {
   "display_name": "Python 3 (ipykernel)",
   "language": "python",
   "name": "python3"
  },
  "language_info": {
   "codemirror_mode": {
    "name": "ipython",
    "version": 3
   },
   "file_extension": ".py",
   "mimetype": "text/x-python",
   "name": "python",
   "nbconvert_exporter": "python",
   "pygments_lexer": "ipython3",
   "version": "3.9.12"
  }
 },
 "nbformat": 4,
 "nbformat_minor": 5
}
